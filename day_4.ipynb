{
  "nbformat": 4,
  "nbformat_minor": 0,
  "metadata": {
    "colab": {
      "provenance": [],
      "authorship_tag": "ABX9TyNLXiP+C/NtoO7pluw1OpEV",
      "include_colab_link": true
    },
    "kernelspec": {
      "name": "python3",
      "display_name": "Python 3"
    },
    "language_info": {
      "name": "python"
    }
  },
  "cells": [
    {
      "cell_type": "markdown",
      "metadata": {
        "id": "view-in-github",
        "colab_type": "text"
      },
      "source": [
        "<a href=\"https://colab.research.google.com/github/Kumar987506/Daily-dairy/blob/main/day_4.ipynb\" target=\"_parent\"><img src=\"https://colab.research.google.com/assets/colab-badge.svg\" alt=\"Open In Colab\"/></a>"
      ]
    },
    {
      "cell_type": "code",
      "execution_count": 1,
      "metadata": {
        "colab": {
          "base_uri": "https://localhost:8080/"
        },
        "id": "Vik6YZ9USQVZ",
        "outputId": "2a35e202-ddd6-4e89-ccaf-57684ec060cb"
      },
      "outputs": [
        {
          "output_type": "stream",
          "name": "stdout",
          "text": [
            "14\n",
            "<class 'str'>\n"
          ]
        }
      ],
      "source": [
        "name = \"sandeep kumar \"\n",
        "a = len (name)\n",
        "print (a)\n",
        "print(type(name ))"
      ]
    },
    {
      "cell_type": "code",
      "source": [
        "#srinr.upper()\n",
        "\n",
        "b=name.upper()\n",
        "print(b)"
      ],
      "metadata": {
        "colab": {
          "base_uri": "https://localhost:8080/"
        },
        "id": "ifFPYAM5TtdU",
        "outputId": "b60329b8-d8c6-4f9e-a4c8-6d14bf050fbb"
      },
      "execution_count": 2,
      "outputs": [
        {
          "output_type": "stream",
          "name": "stdout",
          "text": [
            "SANDEEP KUMAR \n"
          ]
        }
      ]
    },
    {
      "cell_type": "code",
      "source": [
        "#string.lower()\n",
        "c=\"SUNNY\"\n",
        "print(c.lower())"
      ],
      "metadata": {
        "colab": {
          "base_uri": "https://localhost:8080/"
        },
        "id": "2tWVhl6OV7cE",
        "outputId": "71ecebbc-2214-41f6-b484-baa1b14d4445"
      },
      "execution_count": 3,
      "outputs": [
        {
          "output_type": "stream",
          "name": "stdout",
          "text": [
            "sunny\n"
          ]
        }
      ]
    },
    {
      "cell_type": "code",
      "source": [
        "#string.title()\n",
        "d = name.title()\n",
        "print(d)\n"
      ],
      "metadata": {
        "colab": {
          "base_uri": "https://localhost:8080/"
        },
        "id": "C3nF-jRfWNuN",
        "outputId": "254881b5-d8c1-4dc8-d942-3c0bc46cf6ac"
      },
      "execution_count": 4,
      "outputs": [
        {
          "output_type": "stream",
          "name": "stdout",
          "text": [
            "Sandeep Kumar \n"
          ]
        }
      ]
    },
    {
      "cell_type": "code",
      "source": [
        "#string.capitalize\n",
        "e =name.capitalize()\n",
        "print(e)"
      ],
      "metadata": {
        "colab": {
          "base_uri": "https://localhost:8080/"
        },
        "id": "eFKM2m4GWoNv",
        "outputId": "9b616b86-9e70-435f-a759-11b3dbaf9cb3"
      },
      "execution_count": 5,
      "outputs": [
        {
          "output_type": "stream",
          "name": "stdout",
          "text": [
            "Sandeep kumar \n"
          ]
        }
      ]
    },
    {
      "cell_type": "code",
      "source": [
        "#string.swapcase\n",
        "f= \"sUNny SanDEEp\"\n",
        "g=f.swapcase()\n",
        "print(g)"
      ],
      "metadata": {
        "colab": {
          "base_uri": "https://localhost:8080/"
        },
        "id": "HbEE5ZpdW-XO",
        "outputId": "8d779c12-ffa8-495e-e935-b846b9545024"
      },
      "execution_count": 7,
      "outputs": [
        {
          "output_type": "stream",
          "name": "stdout",
          "text": [
            "SunNY sANdeeP\n"
          ]
        }
      ]
    },
    {
      "cell_type": "code",
      "source": [
        "#Practice Questions\n",
        "#reverse\n",
        "Name=\"malayalam\"\n",
        "y=Name[ :: -1]\n",
        "print(y)\n",
        "if y==Name:\n",
        "  print(f\"{Name} is palindrome\")\n",
        "else:\n",
        "  print(\"Not a palindrome\")\n",
        "\n"
      ],
      "metadata": {
        "colab": {
          "base_uri": "https://localhost:8080/"
        },
        "id": "8fWK3dE2YVx2",
        "outputId": "813084f5-a2c4-4854-cb24-22f196438b75"
      },
      "execution_count": 10,
      "outputs": [
        {
          "output_type": "stream",
          "name": "stdout",
          "text": [
            "malayalam\n",
            "malayalam is palindrome\n"
          ]
        }
      ]
    },
    {
      "cell_type": "code",
      "source": [
        "def countv(a):\n",
        "    vowels = \"aeiouAEIOU\"\n",
        "    count = 0\n",
        "    for char in a:\n",
        "        if char in vowels:\n",
        "            count += 1\n",
        "    return count\n",
        "\n",
        "\n",
        "\n"
      ],
      "metadata": {
        "id": "gCnf-JaPjOvY"
      },
      "execution_count": 29,
      "outputs": []
    },
    {
      "cell_type": "code",
      "source": [],
      "metadata": {
        "id": "9OWcxn8lb3bd"
      },
      "execution_count": null,
      "outputs": []
    }
  ]
}